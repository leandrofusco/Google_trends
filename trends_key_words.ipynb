{
 "cells": [
  {
   "cell_type": "markdown",
   "metadata": {},
   "source": [
    "<strong><b><font size=\"5\">Web Scraping e Análise de Dados</font></b></strong>"
   ]
  },
  {
   "cell_type": "markdown",
   "metadata": {},
   "source": [
    "<strong><b><font size=\"4\">Web Scraping e Análise no Google Trends</font></b></strong>\n",
    "\n",
    "<strong><b><font size=\"4\">Quais São as Principais Tendências Relacionado à emprestimo e abrir conta</font></b></strong>"
   ]
  },
  {
   "cell_type": "markdown",
   "metadata": {},
   "source": [
    "![title](imagens/lab7.png)"
   ]
  },
  {
   "cell_type": "markdown",
   "metadata": {},
   "source": [
    "## Definição do Problema\n",
    "\n",
    "Será uma análise de tendência de busca de algumas palavras já definidas no algoritimo, para analisar a frequencia ao longo do tempo e buscar novos insights.\n",
    "Vou utilizar a API Python chamada pytrends."
   ]
  },
  {
   "cell_type": "markdown",
   "metadata": {},
   "source": [
    "## Fonte de Dados\n",
    "\n",
    "Nossa fonte de dados será o site oficial do <a href=\"https://trends.google.com/\">Google Trends</a>.\n",
    "\n",
    "Segue link da documentação da API utilizada para extração dos dados: https://pypi.org/project/pytrends/"
   ]
  },
  {
   "cell_type": "markdown",
   "metadata": {},
   "source": [
    "## Carregando os Pacotes "
   ]
  },
  {
   "cell_type": "code",
   "execution_count": 1,
   "metadata": {},
   "outputs": [
    {
     "name": "stdout",
     "output_type": "stream",
     "text": [
      "Versão da Linguagem Python Usada Neste Jupyter Notebook: 3.7.9\n"
     ]
    }
   ],
   "source": [
    "# Versão da Linguagem Python\n",
    "from platform import python_version\n",
    "print('Versão da Linguagem Python Usada Neste Jupyter Notebook:', python_version())"
   ]
  },
  {
   "cell_type": "code",
   "execution_count": 2,
   "metadata": {},
   "outputs": [],
   "source": [
    "# Imports\n",
    "import os\n",
    "import pytrends\n",
    "import datetime\n",
    "import more_itertools\n",
    "import numpy as np\n",
    "import pandas as pd\n",
    "import seaborn as sns\n",
    "import matplotlib.pyplot as plt\n",
    "import matplotlib.dates as mdates\n",
    "import matplotlib.pyplot as plotter\n",
    "from datetime import date\n",
    "from pytrends.request import TrendReq\n",
    "from pandas.io.json import json_normalize\n",
    "from more_itertools import chunked\n",
    "import warnings\n",
    "warnings.filterwarnings(\"ignore\", category=RuntimeWarning) "
   ]
  },
  {
   "cell_type": "code",
   "execution_count": 3,
   "metadata": {},
   "outputs": [
    {
     "name": "stdout",
     "output_type": "stream",
     "text": [
      "numpy          1.19.2\n",
      "more_itertools 8.5.0\n",
      "seaborn        0.11.0\n",
      "pandas         1.1.5\n",
      "Data Science Academy\n"
     ]
    }
   ],
   "source": [
    "# versoes do meu note\n",
    "# Versões dos pacotes usados neste jupyter notebook\n",
    "%reload_ext watermark\n",
    "%watermark -a \"Data Science Academy\" --iversions"
   ]
  },
  {
   "cell_type": "code",
   "execution_count": 4,
   "metadata": {},
   "outputs": [],
   "source": [
    "# Versões dos pacotes usados neste jupyter notebook\n",
    "# %reload_ext watermark\n",
    "# %watermark -a \"Data Science Academy\" --iversions"
   ]
  },
  {
   "cell_type": "markdown",
   "metadata": {},
   "source": [
    "## Escolhendo as Keywords Para Busca\n",
    "\n",
    "Com base nos bancos digitais vou utilizar as palavras  'emprestimo', 'ac'.\n",
    "\n",
    "banco inter  banco c6 banco neon banco next"
   ]
  },
  {
   "cell_type": "code",
   "execution_count": 5,
   "metadata": {},
   "outputs": [],
   "source": [
    "# Keyword 1\n",
    "keyword_1 = \"abrir conta\"\n",
    "# input()"
   ]
  },
  {
   "cell_type": "code",
   "execution_count": 6,
   "metadata": {},
   "outputs": [],
   "source": [
    "# Keyword 2\n",
    "keyword_2 = 'nubank'\n",
    "# input()"
   ]
  },
  {
   "cell_type": "code",
   "execution_count": 7,
   "metadata": {
    "scrolled": true
   },
   "outputs": [],
   "source": [
    "# Keyword 3\n",
    "keyword_3 = 'banco inter'\n",
    "# input()"
   ]
  },
  {
   "cell_type": "code",
   "execution_count": 8,
   "metadata": {},
   "outputs": [],
   "source": [
    "# Keyword 4\n",
    "keyword_4 = 'banco c6'\n",
    "# input()"
   ]
  },
  {
   "cell_type": "markdown",
   "metadata": {},
   "source": [
    "Como apenas um termo é obrigatório, vamos checar se o usuário digitou mais de um termo e criar uma lista de termos chave."
   ]
  },
  {
   "cell_type": "code",
   "execution_count": 9,
   "metadata": {},
   "outputs": [],
   "source": [
    "# Gravando a primeira keyword na lista\n",
    "lista_palavras_chave = [keyword_1]"
   ]
  },
  {
   "cell_type": "code",
   "execution_count": 10,
   "metadata": {},
   "outputs": [],
   "source": [
    "# Se mais de um termo foi digitado, fazemos append à lista\n",
    "if keyword_2:\n",
    "    lista_palavras_chave.append(keyword_2)\n",
    "if keyword_3:\n",
    "    lista_palavras_chave.append(keyword_3)\n",
    "if keyword_4:\n",
    "    lista_palavras_chave.append(keyword_4)    "
   ]
  },
  {
   "cell_type": "code",
   "execution_count": 11,
   "metadata": {},
   "outputs": [
    {
     "data": {
      "text/plain": [
       "['abrir conta', 'nubank', 'banco inter', 'banco c6']"
      ]
     },
     "execution_count": 11,
     "metadata": {},
     "output_type": "execute_result"
    }
   ],
   "source": [
    "# Lista de keywords\n",
    "lista_palavras_chave"
   ]
  },
  {
   "cell_type": "markdown",
   "metadata": {},
   "source": [
    "## Definição do Período de Análise das Tendências"
   ]
  },
  {
   "cell_type": "markdown",
   "metadata": {},
   "source": [
    "Agora vamos verificar o período que o usuário quer fazer a pesquisa."
   ]
  },
  {
   "cell_type": "code",
   "execution_count": 12,
   "metadata": {},
   "outputs": [],
   "source": [
    "# Variável para definição do timeframe (período) de análise\n",
    "user_timeframe = '' "
   ]
  },
  {
   "cell_type": "code",
   "execution_count": 13,
   "metadata": {},
   "outputs": [
    {
     "name": "stdout",
     "output_type": "stream",
     "text": [
      "\n",
      "Aqui está a lista dos timeframes disponíveis: \n",
      "\n",
      " Para Todos: Todos \n",
      " Últimos 5 Anos: 5 anos \n",
      " Últimos 4 Anos: 4 anos \n",
      " Últimos 3 Anos: 3 anos \n",
      " Últimos 2 Anos: 2 anos \n",
      " Últimos 1 Ano: 1 ano\n"
     ]
    }
   ],
   "source": [
    "# Timeframe\n",
    "timeframe_list = ('\\nAqui está a lista dos timeframes disponíveis: \\n\\n Para Todos: Todos \\n Últimos 5 Anos: 5 anos \\n Últimos 4 Anos: 4 anos \\n Últimos 3 Anos: 3 anos \\n Últimos 2 Anos: 2 anos \\n Últimos 1 Ano: 1 ano')\n",
    "print(timeframe_list)\n"
   ]
  },
  {
   "cell_type": "markdown",
   "metadata": {},
   "source": [
    "Agora solicitamos que o usuário digite o timeframe desejado."
   ]
  },
  {
   "cell_type": "code",
   "execution_count": 14,
   "metadata": {},
   "outputs": [],
   "source": [
    "# Solicita que o usuário digite o timeframe que usaremos para buscar as tendências\n",
    "user_timeframe = \"5 anos\" \n",
    "# input ('Indique o período de busca no formato especificado na lista (por exemplo: 3 anos): ')"
   ]
  },
  {
   "cell_type": "code",
   "execution_count": 15,
   "metadata": {},
   "outputs": [],
   "source": [
    "# Convertemos a escolha do usuário em um valor numérico\n",
    "\n",
    "if user_timeframe == \"5 anos\":\n",
    "    num_anos = 5\n",
    "elif user_timeframe == \"4 anos\":\n",
    "    num_anos = 4\n",
    "elif user_timeframe == \"3 anos\":\n",
    "    num_anos = 3\n",
    "elif user_timeframe == \"2 anos\":\n",
    "    num_anos = 2\n",
    "else:\n",
    "    num_anos = 1"
   ]
  },
  {
   "cell_type": "code",
   "execution_count": 16,
   "metadata": {},
   "outputs": [],
   "source": [
    "# Variáveis de controle para definição do range total\n",
    "num_dias = 7\n",
    "num_semanas = 52\n",
    "total_time_range = num_dias * num_semanas * num_anos"
   ]
  },
  {
   "cell_type": "code",
   "execution_count": 17,
   "metadata": {},
   "outputs": [
    {
     "data": {
      "text/plain": [
       "1820"
      ]
     },
     "execution_count": 17,
     "metadata": {},
     "output_type": "execute_result"
    }
   ],
   "source": [
    "total_time_range"
   ]
  },
  {
   "cell_type": "code",
   "execution_count": 18,
   "metadata": {},
   "outputs": [],
   "source": [
    "# Data final e data atual\n",
    "data_final = date.today()\n",
    "data_atual = date.today()"
   ]
  },
  {
   "cell_type": "code",
   "execution_count": 19,
   "metadata": {},
   "outputs": [
    {
     "data": {
      "text/plain": [
       "(datetime.date(2021, 3, 15), datetime.date(2021, 3, 15))"
      ]
     },
     "execution_count": 19,
     "metadata": {},
     "output_type": "execute_result"
    }
   ],
   "source": [
    "data_final, data_atual"
   ]
  },
  {
   "cell_type": "code",
   "execution_count": 20,
   "metadata": {},
   "outputs": [],
   "source": [
    "# Data final recebe data atual\n",
    "data_final = data_atual"
   ]
  },
  {
   "cell_type": "code",
   "execution_count": 21,
   "metadata": {},
   "outputs": [],
   "source": [
    "# Data de início\n",
    "data_inicio = data_final - datetime.timedelta(days = total_time_range)"
   ]
  },
  {
   "cell_type": "code",
   "execution_count": 22,
   "metadata": {},
   "outputs": [
    {
     "data": {
      "text/plain": [
       "datetime.date(2016, 3, 21)"
      ]
     },
     "execution_count": 22,
     "metadata": {},
     "output_type": "execute_result"
    }
   ],
   "source": [
    "data_inicio"
   ]
  },
  {
   "cell_type": "code",
   "execution_count": 23,
   "metadata": {},
   "outputs": [],
   "source": [
    "# Agora definimos o timeframe de pesquisa de tendências com a data de início e final\n",
    "user_timeframe = data_inicio.strftime('%Y-%m-%d') + ' ' + data_final.strftime('%Y-%m-%d')"
   ]
  },
  {
   "cell_type": "code",
   "execution_count": 24,
   "metadata": {},
   "outputs": [
    {
     "name": "stdout",
     "output_type": "stream",
     "text": [
      "2016-03-21 2021-03-15\n"
     ]
    }
   ],
   "source": [
    "print(user_timeframe)"
   ]
  },
  {
   "cell_type": "markdown",
   "metadata": {},
   "source": [
    "Perfeito. Temos o range de datas para o Google Trends. Vamos agora definir o país para análise."
   ]
  },
  {
   "cell_type": "markdown",
   "metadata": {},
   "source": [
    "## Definição da Localidade de Análise das Tendências"
   ]
  },
  {
   "cell_type": "code",
   "execution_count": 25,
   "metadata": {},
   "outputs": [],
   "source": [
    "# Variável para a localidade\n",
    "user_geo = ''"
   ]
  },
  {
   "cell_type": "code",
   "execution_count": 26,
   "metadata": {},
   "outputs": [],
   "source": [
    "# Obtendo input do usuário\n",
    "user_geo = \"BR\"\n",
    "# input ('Indique o País Para Análise dos Dados. Exemplo: Brasil é BR. ')"
   ]
  },
  {
   "cell_type": "code",
   "execution_count": 27,
   "metadata": {},
   "outputs": [
    {
     "name": "stdout",
     "output_type": "stream",
     "text": [
      "BR\n"
     ]
    }
   ],
   "source": [
    "print(user_geo)"
   ]
  },
  {
   "cell_type": "markdown",
   "metadata": {},
   "source": [
    "## Extração dos Dados do Google Trends\n",
    "\n",
    "Já temos os parâmetros que precisamos. Agora usamos o PyTrends para buscar os dados."
   ]
  },
  {
   "cell_type": "code",
   "execution_count": 28,
   "metadata": {},
   "outputs": [],
   "source": [
    "# Categoria\n",
    "user_cat = 0 "
   ]
  },
  {
   "cell_type": "code",
   "execution_count": 29,
   "metadata": {},
   "outputs": [],
   "source": [
    "# Cria o objeto para busca no Google Trends\n",
    "pytrend = TrendReq()"
   ]
  },
  {
   "cell_type": "code",
   "execution_count": 30,
   "metadata": {},
   "outputs": [
    {
     "data": {
      "text/plain": [
       "'2016-03-21 2021-03-15'"
      ]
     },
     "execution_count": 30,
     "metadata": {},
     "output_type": "execute_result"
    }
   ],
   "source": [
    "user_timeframe"
   ]
  },
  {
   "cell_type": "code",
   "execution_count": 31,
   "metadata": {},
   "outputs": [],
   "source": [
    "# Extraindo os dados do Google Trends\n",
    "pytrend.build_payload(kw_list = lista_palavras_chave, \n",
    "                      cat = user_cat, \n",
    "                      timeframe = user_timeframe, \n",
    "                      geo = user_geo)"
   ]
  },
  {
   "cell_type": "code",
   "execution_count": 32,
   "metadata": {},
   "outputs": [],
   "source": [
    "# Vamos colocar os dados do interesse ao longo do tempo em um dataframe para começarmos a análise\n",
    "df_interesse = pytrend.interest_over_time()"
   ]
  },
  {
   "cell_type": "code",
   "execution_count": 33,
   "metadata": {},
   "outputs": [
    {
     "data": {
      "text/plain": [
       "(259, 5)"
      ]
     },
     "execution_count": 33,
     "metadata": {},
     "output_type": "execute_result"
    }
   ],
   "source": [
    "# Shape\n",
    "df_interesse.shape"
   ]
  },
  {
   "cell_type": "code",
   "execution_count": 34,
   "metadata": {},
   "outputs": [
    {
     "data": {
      "text/html": [
       "<div>\n",
       "<style scoped>\n",
       "    .dataframe tbody tr th:only-of-type {\n",
       "        vertical-align: middle;\n",
       "    }\n",
       "\n",
       "    .dataframe tbody tr th {\n",
       "        vertical-align: top;\n",
       "    }\n",
       "\n",
       "    .dataframe thead th {\n",
       "        text-align: right;\n",
       "    }\n",
       "</style>\n",
       "<table border=\"1\" class=\"dataframe\">\n",
       "  <thead>\n",
       "    <tr style=\"text-align: right;\">\n",
       "      <th></th>\n",
       "      <th>abrir conta</th>\n",
       "      <th>nubank</th>\n",
       "      <th>banco inter</th>\n",
       "      <th>banco c6</th>\n",
       "      <th>isPartial</th>\n",
       "    </tr>\n",
       "    <tr>\n",
       "      <th>date</th>\n",
       "      <th></th>\n",
       "      <th></th>\n",
       "      <th></th>\n",
       "      <th></th>\n",
       "      <th></th>\n",
       "    </tr>\n",
       "  </thead>\n",
       "  <tbody>\n",
       "    <tr>\n",
       "      <th>2016-03-27</th>\n",
       "      <td>10</td>\n",
       "      <td>6</td>\n",
       "      <td>0</td>\n",
       "      <td>0</td>\n",
       "      <td>False</td>\n",
       "    </tr>\n",
       "    <tr>\n",
       "      <th>2016-04-03</th>\n",
       "      <td>8</td>\n",
       "      <td>7</td>\n",
       "      <td>0</td>\n",
       "      <td>0</td>\n",
       "      <td>False</td>\n",
       "    </tr>\n",
       "    <tr>\n",
       "      <th>2016-04-10</th>\n",
       "      <td>9</td>\n",
       "      <td>8</td>\n",
       "      <td>0</td>\n",
       "      <td>0</td>\n",
       "      <td>False</td>\n",
       "    </tr>\n",
       "    <tr>\n",
       "      <th>2016-04-17</th>\n",
       "      <td>10</td>\n",
       "      <td>6</td>\n",
       "      <td>0</td>\n",
       "      <td>0</td>\n",
       "      <td>False</td>\n",
       "    </tr>\n",
       "    <tr>\n",
       "      <th>2016-04-24</th>\n",
       "      <td>11</td>\n",
       "      <td>8</td>\n",
       "      <td>0</td>\n",
       "      <td>0</td>\n",
       "      <td>False</td>\n",
       "    </tr>\n",
       "    <tr>\n",
       "      <th>...</th>\n",
       "      <td>...</td>\n",
       "      <td>...</td>\n",
       "      <td>...</td>\n",
       "      <td>...</td>\n",
       "      <td>...</td>\n",
       "    </tr>\n",
       "    <tr>\n",
       "      <th>2021-01-24</th>\n",
       "      <td>21</td>\n",
       "      <td>59</td>\n",
       "      <td>22</td>\n",
       "      <td>2</td>\n",
       "      <td>False</td>\n",
       "    </tr>\n",
       "    <tr>\n",
       "      <th>2021-01-31</th>\n",
       "      <td>18</td>\n",
       "      <td>62</td>\n",
       "      <td>23</td>\n",
       "      <td>3</td>\n",
       "      <td>False</td>\n",
       "    </tr>\n",
       "    <tr>\n",
       "      <th>2021-02-07</th>\n",
       "      <td>20</td>\n",
       "      <td>59</td>\n",
       "      <td>23</td>\n",
       "      <td>2</td>\n",
       "      <td>False</td>\n",
       "    </tr>\n",
       "    <tr>\n",
       "      <th>2021-02-14</th>\n",
       "      <td>19</td>\n",
       "      <td>61</td>\n",
       "      <td>20</td>\n",
       "      <td>3</td>\n",
       "      <td>False</td>\n",
       "    </tr>\n",
       "    <tr>\n",
       "      <th>2021-02-21</th>\n",
       "      <td>19</td>\n",
       "      <td>56</td>\n",
       "      <td>21</td>\n",
       "      <td>2</td>\n",
       "      <td>False</td>\n",
       "    </tr>\n",
       "  </tbody>\n",
       "</table>\n",
       "<p>257 rows × 5 columns</p>\n",
       "</div>"
      ],
      "text/plain": [
       "            abrir conta  nubank  banco inter  banco c6 isPartial\n",
       "date                                                            \n",
       "2016-03-27           10       6            0         0     False\n",
       "2016-04-03            8       7            0         0     False\n",
       "2016-04-10            9       8            0         0     False\n",
       "2016-04-17           10       6            0         0     False\n",
       "2016-04-24           11       8            0         0     False\n",
       "...                 ...     ...          ...       ...       ...\n",
       "2021-01-24           21      59           22         2     False\n",
       "2021-01-31           18      62           23         3     False\n",
       "2021-02-07           20      59           23         2     False\n",
       "2021-02-14           19      61           20         3     False\n",
       "2021-02-21           19      56           21         2     False\n",
       "\n",
       "[257 rows x 5 columns]"
      ]
     },
     "execution_count": 34,
     "metadata": {},
     "output_type": "execute_result"
    }
   ],
   "source": [
    "# Visualiza os dados\n",
    "df_interesse.head(-2)"
   ]
  },
  {
   "cell_type": "code",
   "execution_count": 35,
   "metadata": {},
   "outputs": [],
   "source": [
    "# Vamos salvar os dados em disco para o caso de não conseguir conectar ao Google Trends\n",
    "df_interesse.to_csv(\"df_interesse.csv\", index = True)"
   ]
  },
  {
   "cell_type": "markdown",
   "metadata": {},
   "source": [
    "Coleta de dados realizada com sucesso. Simples, não? Esses dados podem ser muito úteis para que uma empresa compreenda as tendências ao longo do tempo sobre determinado assunto. Agora, vamos analisar os dados."
   ]
  },
  {
   "cell_type": "markdown",
   "metadata": {},
   "source": [
    "## Análise de Dados\n",
    "\n",
    "Iremos organizar os dados e analisá-los por diferentes perspectivas."
   ]
  },
  {
   "cell_type": "markdown",
   "metadata": {},
   "source": [
    "### Análise 1 - Interesse nas Keywords ao Longo do Tempo (Timeframe Escolhido Pelo Usuário)"
   ]
  },
  {
   "cell_type": "code",
   "execution_count": 36,
   "metadata": {},
   "outputs": [],
   "source": [
    "# Variáveis para o gráfico\n",
    "num_dias = 7\n",
    "num_semanas = 52\n",
    "lista_datas = [data_inicio]"
   ]
  },
  {
   "cell_type": "code",
   "execution_count": 37,
   "metadata": {},
   "outputs": [
    {
     "data": {
      "text/plain": [
       "datetime.timedelta(days=7)"
      ]
     },
     "execution_count": 37,
     "metadata": {},
     "output_type": "execute_result"
    }
   ],
   "source": [
    "datetime.timedelta(days = num_dias)"
   ]
  },
  {
   "cell_type": "code",
   "execution_count": 38,
   "metadata": {},
   "outputs": [],
   "source": [
    "# Preparamos a lista de datas\n",
    "for index in range (0, num_semanas * num_anos - 2):\n",
    "    lista_datas.append(lista_datas[index] + datetime.timedelta(days = num_dias)) "
   ]
  },
  {
   "cell_type": "code",
   "execution_count": 39,
   "metadata": {},
   "outputs": [
    {
     "data": {
      "text/plain": [
       "259"
      ]
     },
     "execution_count": 39,
     "metadata": {},
     "output_type": "execute_result"
    }
   ],
   "source": [
    "len(lista_datas)"
   ]
  },
  {
   "cell_type": "code",
   "execution_count": 40,
   "metadata": {},
   "outputs": [
    {
     "data": {
      "text/plain": [
       "[datetime.date(2016, 3, 21),\n",
       " datetime.date(2016, 3, 28),\n",
       " datetime.date(2016, 4, 4),\n",
       " datetime.date(2016, 4, 11),\n",
       " datetime.date(2016, 4, 18),\n",
       " datetime.date(2016, 4, 25),\n",
       " datetime.date(2016, 5, 2),\n",
       " datetime.date(2016, 5, 9),\n",
       " datetime.date(2016, 5, 16),\n",
       " datetime.date(2016, 5, 23)]"
      ]
     },
     "execution_count": 40,
     "metadata": {},
     "output_type": "execute_result"
    }
   ],
   "source": [
    "# Lista de datas para o plot\n",
    "lista_datas[0:10]"
   ]
  },
  {
   "cell_type": "code",
   "execution_count": 41,
   "metadata": {},
   "outputs": [
    {
     "data": {
      "image/png": "[encoded data removed]",
      "text/plain": [
       "<Figure size 1152x720 with 1 Axes>"
      ]
     },
     "metadata": {
      "needs_background": "light"
     },
     "output_type": "display_data"
    }
   ],
   "source": [
    "# Plot\n",
    "x_axis = lista_datas\n",
    "plt.figure(figsize = (16,10))\n",
    "plt.gca().xaxis.set_major_formatter(mdates.DateFormatter('%m/%Y'))\n",
    "plt.gca().xaxis.set_major_locator(mdates.DayLocator(0,40 * num_anos))\n",
    "plt.gcf().autofmt_xdate()\n",
    "plt.plot(x_axis, df_interesse.iloc[:,0], label = '{}'.format(keyword_1))\n",
    "if keyword_2:\n",
    "    plt.plot (x_axis, df_interesse.iloc[:,1], label = '{}'.format(keyword_2))\n",
    "if keyword_3:\n",
    "    plt.plot (x_axis, df_interesse.iloc[:,2], label = '{}'.format(keyword_3))\n",
    "if keyword_4:\n",
    "    plt.plot (x_axis, df_interesse.iloc[:,3], label = '{}'.format(keyword_4))    \n",
    "plt.xticks(rotation = 1)\n",
    "plt.xlabel('\\nTempo\\n')\n",
    "plt.ylabel('\\nNível de Interesse\\n')\n",
    "plt.title('\\nInteresse ao Longo do Tempo\\n')\n",
    "plt.legend()\n",
    "\n",
    "# plt.savefig('Grafio_julia_java_python_sql')\n",
    "\n",
    "plt.show()"
   ]
  },
  {
   "cell_type": "markdown",
   "metadata": {},
   "source": [
    "### Análise 2 - Buscas Relacionadas à Keyword 1"
   ]
  },
  {
   "cell_type": "code",
   "execution_count": 42,
   "metadata": {
    "scrolled": false
   },
   "outputs": [
    {
     "data": {
      "text/html": [
       "<div>\n",
       "<style scoped>\n",
       "    .dataframe tbody tr th:only-of-type {\n",
       "        vertical-align: middle;\n",
       "    }\n",
       "\n",
       "    .dataframe tbody tr th {\n",
       "        vertical-align: top;\n",
       "    }\n",
       "\n",
       "    .dataframe thead th {\n",
       "        text-align: right;\n",
       "    }\n",
       "</style>\n",
       "<table border=\"1\" class=\"dataframe\">\n",
       "  <thead>\n",
       "    <tr style=\"text-align: right;\">\n",
       "      <th></th>\n",
       "      <th>query</th>\n",
       "      <th>value</th>\n",
       "    </tr>\n",
       "  </thead>\n",
       "  <tbody>\n",
       "    <tr>\n",
       "      <th>0</th>\n",
       "      <td>abrir conta caixa</td>\n",
       "      <td>100</td>\n",
       "    </tr>\n",
       "    <tr>\n",
       "      <th>1</th>\n",
       "      <td>conta caixa</td>\n",
       "      <td>99</td>\n",
       "    </tr>\n",
       "    <tr>\n",
       "      <th>2</th>\n",
       "      <td>abrir uma conta</td>\n",
       "      <td>97</td>\n",
       "    </tr>\n",
       "    <tr>\n",
       "      <th>3</th>\n",
       "      <td>abrir conta na caixa</td>\n",
       "      <td>74</td>\n",
       "    </tr>\n",
       "    <tr>\n",
       "      <th>4</th>\n",
       "      <td>abrir conta poupança</td>\n",
       "      <td>56</td>\n",
       "    </tr>\n",
       "    <tr>\n",
       "      <th>5</th>\n",
       "      <td>conta poupança</td>\n",
       "      <td>56</td>\n",
       "    </tr>\n",
       "    <tr>\n",
       "      <th>6</th>\n",
       "      <td>como abrir uma conta</td>\n",
       "      <td>46</td>\n",
       "    </tr>\n",
       "    <tr>\n",
       "      <th>7</th>\n",
       "      <td>banco do brasil</td>\n",
       "      <td>35</td>\n",
       "    </tr>\n",
       "    <tr>\n",
       "      <th>8</th>\n",
       "      <td>banco do brasil abrir conta</td>\n",
       "      <td>34</td>\n",
       "    </tr>\n",
       "    <tr>\n",
       "      <th>9</th>\n",
       "      <td>conta poupança caixa</td>\n",
       "      <td>32</td>\n",
       "    </tr>\n",
       "    <tr>\n",
       "      <th>10</th>\n",
       "      <td>abrir conta poupança caixa</td>\n",
       "      <td>32</td>\n",
       "    </tr>\n",
       "    <tr>\n",
       "      <th>11</th>\n",
       "      <td>poupança caixa</td>\n",
       "      <td>32</td>\n",
       "    </tr>\n",
       "    <tr>\n",
       "      <th>12</th>\n",
       "      <td>santander abrir conta</td>\n",
       "      <td>31</td>\n",
       "    </tr>\n",
       "    <tr>\n",
       "      <th>13</th>\n",
       "      <td>bradesco abrir conta</td>\n",
       "      <td>31</td>\n",
       "    </tr>\n",
       "    <tr>\n",
       "      <th>14</th>\n",
       "      <td>abrir uma conta na caixa</td>\n",
       "      <td>30</td>\n",
       "    </tr>\n",
       "    <tr>\n",
       "      <th>15</th>\n",
       "      <td>abrir conta corrente</td>\n",
       "      <td>30</td>\n",
       "    </tr>\n",
       "    <tr>\n",
       "      <th>16</th>\n",
       "      <td>abrir conta itau</td>\n",
       "      <td>27</td>\n",
       "    </tr>\n",
       "    <tr>\n",
       "      <th>17</th>\n",
       "      <td>abrir conta online</td>\n",
       "      <td>26</td>\n",
       "    </tr>\n",
       "    <tr>\n",
       "      <th>18</th>\n",
       "      <td>documentos</td>\n",
       "      <td>25</td>\n",
       "    </tr>\n",
       "    <tr>\n",
       "      <th>19</th>\n",
       "      <td>como abrir conta na caixa</td>\n",
       "      <td>24</td>\n",
       "    </tr>\n",
       "    <tr>\n",
       "      <th>20</th>\n",
       "      <td>abrir conta na caixa poupança</td>\n",
       "      <td>22</td>\n",
       "    </tr>\n",
       "    <tr>\n",
       "      <th>21</th>\n",
       "      <td>abrir uma conta poupança</td>\n",
       "      <td>22</td>\n",
       "    </tr>\n",
       "    <tr>\n",
       "      <th>22</th>\n",
       "      <td>documentos para abrir conta</td>\n",
       "      <td>21</td>\n",
       "    </tr>\n",
       "    <tr>\n",
       "      <th>23</th>\n",
       "      <td>abrir conta no banco do brasil</td>\n",
       "      <td>20</td>\n",
       "    </tr>\n",
       "    <tr>\n",
       "      <th>24</th>\n",
       "      <td>como abrir conta poupança</td>\n",
       "      <td>18</td>\n",
       "    </tr>\n",
       "  </tbody>\n",
       "</table>\n",
       "</div>"
      ],
      "text/plain": [
       "                             query  value\n",
       "0                abrir conta caixa    100\n",
       "1                      conta caixa     99\n",
       "2                  abrir uma conta     97\n",
       "3             abrir conta na caixa     74\n",
       "4             abrir conta poupança     56\n",
       "5                   conta poupança     56\n",
       "6             como abrir uma conta     46\n",
       "7                  banco do brasil     35\n",
       "8      banco do brasil abrir conta     34\n",
       "9             conta poupança caixa     32\n",
       "10      abrir conta poupança caixa     32\n",
       "11                  poupança caixa     32\n",
       "12           santander abrir conta     31\n",
       "13            bradesco abrir conta     31\n",
       "14        abrir uma conta na caixa     30\n",
       "15            abrir conta corrente     30\n",
       "16                abrir conta itau     27\n",
       "17              abrir conta online     26\n",
       "18                      documentos     25\n",
       "19       como abrir conta na caixa     24\n",
       "20   abrir conta na caixa poupança     22\n",
       "21        abrir uma conta poupança     22\n",
       "22     documentos para abrir conta     21\n",
       "23  abrir conta no banco do brasil     20\n",
       "24       como abrir conta poupança     18"
      ]
     },
     "execution_count": 42,
     "metadata": {},
     "output_type": "execute_result"
    }
   ],
   "source": [
    "# Extraímos as consultas relacionadas e filtramos pela Keyword 1\n",
    "related_queries_dict = pytrend.related_queries()\n",
    "keyword_1_top_search = related_queries_dict['{}'.format(keyword_1)]['top']\n",
    "keyword_1_top_search "
   ]
  },
  {
   "cell_type": "code",
   "execution_count": 43,
   "metadata": {},
   "outputs": [
    {
     "data": {
      "image/png": "[encoded data removed]",
      "text/plain": [
       "<Figure size 864x864 with 1 Axes>"
      ]
     },
     "metadata": {},
     "output_type": "display_data"
    }
   ],
   "source": [
    "# Vamos separar as consultas relacionadas por percentual e listas as Top 10\n",
    "if keyword_1:\n",
    "    \n",
    "    # Extrai as Top 10 consultas relacionadas\n",
    "    if len(keyword_1_top_search.iloc[:,0]) >= 10:\n",
    "        keyword_1_top_search = keyword_1_top_search.head(10)\n",
    "        \n",
    "    # Gráfico\n",
    "    fig, ax = plt.subplots(figsize = (12,12), subplot_kw = dict(aspect = \"equal\"))\n",
    "\n",
    "    # Nomes das fatias do gráfico\n",
    "    pieLabels = keyword_1_top_search.iloc[:,0] \n",
    "\n",
    "    # Dados\n",
    "    data = keyword_1_top_search.iloc[:,1]\n",
    "\n",
    "    # Função para calcular o percentual\n",
    "    def func(pct, allvals):\n",
    "        absolute = int(pct/100.*np.sum(allvals))\n",
    "        return \"Percentual:{:.1f}%\\n Valor:{:d}\".format(pct, absolute)\n",
    "\n",
    "    # Prepara os dados para o gráfico\n",
    "    wedges, texts, autotexts = ax.pie(data, autopct = lambda pct: func(pct, data), textprops = dict(color = \"w\"))\n",
    "\n",
    "    # Legendas\n",
    "    ax.legend(wedges, pieLabels, title = \"Labels\", loc = \"center left\", bbox_to_anchor = (1, 0, 0.5, 1))\n",
    "\n",
    "    # Plot\n",
    "    plt.setp(autotexts, size = 8, weight = \"bold\")\n",
    "    \n",
    "    # Título\n",
    "    ax.set_title(\"\\n{} - Top 10 Consultas Relacionadas\".format(keyword_1.upper()))\n",
    "\n",
    "    plt.show()"
   ]
  },
  {
   "cell_type": "code",
   "execution_count": 44,
   "metadata": {},
   "outputs": [
    {
     "data": {
      "text/html": [
       "<div>\n",
       "<style scoped>\n",
       "    .dataframe tbody tr th:only-of-type {\n",
       "        vertical-align: middle;\n",
       "    }\n",
       "\n",
       "    .dataframe tbody tr th {\n",
       "        vertical-align: top;\n",
       "    }\n",
       "\n",
       "    .dataframe thead th {\n",
       "        text-align: right;\n",
       "    }\n",
       "</style>\n",
       "<table border=\"1\" class=\"dataframe\">\n",
       "  <thead>\n",
       "    <tr style=\"text-align: right;\">\n",
       "      <th></th>\n",
       "      <th>query</th>\n",
       "      <th>value</th>\n",
       "    </tr>\n",
       "  </thead>\n",
       "  <tbody>\n",
       "    <tr>\n",
       "      <th>0</th>\n",
       "      <td>nubank abrir conta</td>\n",
       "      <td>182250</td>\n",
       "    </tr>\n",
       "    <tr>\n",
       "      <th>1</th>\n",
       "      <td>nubank</td>\n",
       "      <td>174000</td>\n",
       "    </tr>\n",
       "    <tr>\n",
       "      <th>2</th>\n",
       "      <td>abrir conta inter</td>\n",
       "      <td>156200</td>\n",
       "    </tr>\n",
       "    <tr>\n",
       "      <th>3</th>\n",
       "      <td>abrir conta banco inter</td>\n",
       "      <td>131500</td>\n",
       "    </tr>\n",
       "    <tr>\n",
       "      <th>4</th>\n",
       "      <td>banco inter</td>\n",
       "      <td>123250</td>\n",
       "    </tr>\n",
       "    <tr>\n",
       "      <th>5</th>\n",
       "      <td>como abrir conta nubank</td>\n",
       "      <td>56200</td>\n",
       "    </tr>\n",
       "    <tr>\n",
       "      <th>6</th>\n",
       "      <td>abrir conta na caixa econômica pelo celular</td>\n",
       "      <td>49550</td>\n",
       "    </tr>\n",
       "    <tr>\n",
       "      <th>7</th>\n",
       "      <td>como abrir uma conta digital na caixa</td>\n",
       "      <td>44700</td>\n",
       "    </tr>\n",
       "    <tr>\n",
       "      <th>8</th>\n",
       "      <td>como abrir uma conta na caixa pelo celular</td>\n",
       "      <td>43850</td>\n",
       "    </tr>\n",
       "    <tr>\n",
       "      <th>9</th>\n",
       "      <td>abrir conta no banco inter</td>\n",
       "      <td>40450</td>\n",
       "    </tr>\n",
       "    <tr>\n",
       "      <th>10</th>\n",
       "      <td>como abrir conta poupança na caixa pelo celular</td>\n",
       "      <td>31350</td>\n",
       "    </tr>\n",
       "    <tr>\n",
       "      <th>11</th>\n",
       "      <td>abrir conta no banco do brasil pelo celular</td>\n",
       "      <td>30950</td>\n",
       "    </tr>\n",
       "    <tr>\n",
       "      <th>12</th>\n",
       "      <td>abrir conta bradesco pelo app</td>\n",
       "      <td>24700</td>\n",
       "    </tr>\n",
       "    <tr>\n",
       "      <th>13</th>\n",
       "      <td>como abrir conta no nubank</td>\n",
       "      <td>22050</td>\n",
       "    </tr>\n",
       "    <tr>\n",
       "      <th>14</th>\n",
       "      <td>como abrir uma conta nubank</td>\n",
       "      <td>21900</td>\n",
       "    </tr>\n",
       "    <tr>\n",
       "      <th>15</th>\n",
       "      <td>abrir conta corrente caixa pelo celular</td>\n",
       "      <td>19650</td>\n",
       "    </tr>\n",
       "    <tr>\n",
       "      <th>16</th>\n",
       "      <td>modal mais</td>\n",
       "      <td>19200</td>\n",
       "    </tr>\n",
       "    <tr>\n",
       "      <th>17</th>\n",
       "      <td>conta digital caixa</td>\n",
       "      <td>15750</td>\n",
       "    </tr>\n",
       "    <tr>\n",
       "      <th>18</th>\n",
       "      <td>abrir conta no mercado pago</td>\n",
       "      <td>12700</td>\n",
       "    </tr>\n",
       "    <tr>\n",
       "      <th>19</th>\n",
       "      <td>como abrir conta digital caixa</td>\n",
       "      <td>8650</td>\n",
       "    </tr>\n",
       "    <tr>\n",
       "      <th>20</th>\n",
       "      <td>abrir conta digital caixa</td>\n",
       "      <td>8500</td>\n",
       "    </tr>\n",
       "    <tr>\n",
       "      <th>21</th>\n",
       "      <td>abrir conta digital na caixa</td>\n",
       "      <td>8100</td>\n",
       "    </tr>\n",
       "    <tr>\n",
       "      <th>22</th>\n",
       "      <td>abrir conta poupança caixa pelo celular</td>\n",
       "      <td>6400</td>\n",
       "    </tr>\n",
       "    <tr>\n",
       "      <th>23</th>\n",
       "      <td>abrir conta na caixa pelo celular</td>\n",
       "      <td>5850</td>\n",
       "    </tr>\n",
       "    <tr>\n",
       "      <th>24</th>\n",
       "      <td>como abrir conta na caixa pelo celular</td>\n",
       "      <td>5650</td>\n",
       "    </tr>\n",
       "  </tbody>\n",
       "</table>\n",
       "</div>"
      ],
      "text/plain": [
       "                                              query   value\n",
       "0                                nubank abrir conta  182250\n",
       "1                                            nubank  174000\n",
       "2                                 abrir conta inter  156200\n",
       "3                           abrir conta banco inter  131500\n",
       "4                                       banco inter  123250\n",
       "5                           como abrir conta nubank   56200\n",
       "6       abrir conta na caixa econômica pelo celular   49550\n",
       "7             como abrir uma conta digital na caixa   44700\n",
       "8        como abrir uma conta na caixa pelo celular   43850\n",
       "9                        abrir conta no banco inter   40450\n",
       "10  como abrir conta poupança na caixa pelo celular   31350\n",
       "11      abrir conta no banco do brasil pelo celular   30950\n",
       "12                    abrir conta bradesco pelo app   24700\n",
       "13                       como abrir conta no nubank   22050\n",
       "14                      como abrir uma conta nubank   21900\n",
       "15          abrir conta corrente caixa pelo celular   19650\n",
       "16                                       modal mais   19200\n",
       "17                              conta digital caixa   15750\n",
       "18                      abrir conta no mercado pago   12700\n",
       "19                   como abrir conta digital caixa    8650\n",
       "20                        abrir conta digital caixa    8500\n",
       "21                     abrir conta digital na caixa    8100\n",
       "22          abrir conta poupança caixa pelo celular    6400\n",
       "23                abrir conta na caixa pelo celular    5850\n",
       "24           como abrir conta na caixa pelo celular    5650"
      ]
     },
     "execution_count": 44,
     "metadata": {},
     "output_type": "execute_result"
    }
   ],
   "source": [
    "# Vamos verificar qual consulta relacionada teve maior crescimento no período analisado\n",
    "keyword_1_rising_search = related_queries_dict['{}'.format(keyword_1)]['rising']\n",
    "keyword_1_rising_search"
   ]
  },
  {
   "cell_type": "markdown",
   "metadata": {},
   "source": [
    "### Análise 3 - Buscas Relacionadas à Keyword 2"
   ]
  },
  {
   "cell_type": "code",
   "execution_count": 45,
   "metadata": {
    "scrolled": false
   },
   "outputs": [
    {
     "data": {
      "text/html": [
       "<div>\n",
       "<style scoped>\n",
       "    .dataframe tbody tr th:only-of-type {\n",
       "        vertical-align: middle;\n",
       "    }\n",
       "\n",
       "    .dataframe tbody tr th {\n",
       "        vertical-align: top;\n",
       "    }\n",
       "\n",
       "    .dataframe thead th {\n",
       "        text-align: right;\n",
       "    }\n",
       "</style>\n",
       "<table border=\"1\" class=\"dataframe\">\n",
       "  <thead>\n",
       "    <tr style=\"text-align: right;\">\n",
       "      <th></th>\n",
       "      <th>query</th>\n",
       "      <th>value</th>\n",
       "    </tr>\n",
       "  </thead>\n",
       "  <tbody>\n",
       "    <tr>\n",
       "      <th>0</th>\n",
       "      <td>nubank cartão</td>\n",
       "      <td>100</td>\n",
       "    </tr>\n",
       "    <tr>\n",
       "      <th>1</th>\n",
       "      <td>cartao nubank</td>\n",
       "      <td>86</td>\n",
       "    </tr>\n",
       "    <tr>\n",
       "      <th>2</th>\n",
       "      <td>nubank conta</td>\n",
       "      <td>46</td>\n",
       "    </tr>\n",
       "    <tr>\n",
       "      <th>3</th>\n",
       "      <td>nubank credito</td>\n",
       "      <td>42</td>\n",
       "    </tr>\n",
       "    <tr>\n",
       "      <th>4</th>\n",
       "      <td>banco nubank</td>\n",
       "      <td>40</td>\n",
       "    </tr>\n",
       "    <tr>\n",
       "      <th>5</th>\n",
       "      <td>nubank cartao credito</td>\n",
       "      <td>30</td>\n",
       "    </tr>\n",
       "    <tr>\n",
       "      <th>6</th>\n",
       "      <td>nubank cartao de credito</td>\n",
       "      <td>28</td>\n",
       "    </tr>\n",
       "    <tr>\n",
       "      <th>7</th>\n",
       "      <td>cartao de credito</td>\n",
       "      <td>27</td>\n",
       "    </tr>\n",
       "    <tr>\n",
       "      <th>8</th>\n",
       "      <td>nubank cartão de crédito</td>\n",
       "      <td>22</td>\n",
       "    </tr>\n",
       "    <tr>\n",
       "      <th>9</th>\n",
       "      <td>cartão de crédito</td>\n",
       "      <td>21</td>\n",
       "    </tr>\n",
       "    <tr>\n",
       "      <th>10</th>\n",
       "      <td>boleto nubank</td>\n",
       "      <td>21</td>\n",
       "    </tr>\n",
       "    <tr>\n",
       "      <th>11</th>\n",
       "      <td>nubank fatura</td>\n",
       "      <td>20</td>\n",
       "    </tr>\n",
       "    <tr>\n",
       "      <th>12</th>\n",
       "      <td>telefone nubank</td>\n",
       "      <td>17</td>\n",
       "    </tr>\n",
       "    <tr>\n",
       "      <th>13</th>\n",
       "      <td>cartão nubank credito</td>\n",
       "      <td>12</td>\n",
       "    </tr>\n",
       "    <tr>\n",
       "      <th>14</th>\n",
       "      <td>cartão de credito nubank</td>\n",
       "      <td>12</td>\n",
       "    </tr>\n",
       "    <tr>\n",
       "      <th>15</th>\n",
       "      <td>cartão de credito</td>\n",
       "      <td>12</td>\n",
       "    </tr>\n",
       "    <tr>\n",
       "      <th>16</th>\n",
       "      <td>pedir nubank</td>\n",
       "      <td>11</td>\n",
       "    </tr>\n",
       "    <tr>\n",
       "      <th>17</th>\n",
       "      <td>nubank numero</td>\n",
       "      <td>11</td>\n",
       "    </tr>\n",
       "    <tr>\n",
       "      <th>18</th>\n",
       "      <td>nubank poupança</td>\n",
       "      <td>11</td>\n",
       "    </tr>\n",
       "    <tr>\n",
       "      <th>19</th>\n",
       "      <td>nubank debito</td>\n",
       "      <td>10</td>\n",
       "    </tr>\n",
       "    <tr>\n",
       "      <th>20</th>\n",
       "      <td>app nubank</td>\n",
       "      <td>10</td>\n",
       "    </tr>\n",
       "    <tr>\n",
       "      <th>21</th>\n",
       "      <td>fazer cartão nubank</td>\n",
       "      <td>9</td>\n",
       "    </tr>\n",
       "    <tr>\n",
       "      <th>22</th>\n",
       "      <td>nubank codigo</td>\n",
       "      <td>9</td>\n",
       "    </tr>\n",
       "    <tr>\n",
       "      <th>23</th>\n",
       "      <td>fazer cartao nubank</td>\n",
       "      <td>8</td>\n",
       "    </tr>\n",
       "    <tr>\n",
       "      <th>24</th>\n",
       "      <td>nubank login</td>\n",
       "      <td>8</td>\n",
       "    </tr>\n",
       "  </tbody>\n",
       "</table>\n",
       "</div>"
      ],
      "text/plain": [
       "                       query  value\n",
       "0              nubank cartão    100\n",
       "1              cartao nubank     86\n",
       "2               nubank conta     46\n",
       "3             nubank credito     42\n",
       "4               banco nubank     40\n",
       "5      nubank cartao credito     30\n",
       "6   nubank cartao de credito     28\n",
       "7          cartao de credito     27\n",
       "8   nubank cartão de crédito     22\n",
       "9          cartão de crédito     21\n",
       "10             boleto nubank     21\n",
       "11             nubank fatura     20\n",
       "12           telefone nubank     17\n",
       "13     cartão nubank credito     12\n",
       "14  cartão de credito nubank     12\n",
       "15         cartão de credito     12\n",
       "16              pedir nubank     11\n",
       "17             nubank numero     11\n",
       "18           nubank poupança     11\n",
       "19             nubank debito     10\n",
       "20                app nubank     10\n",
       "21       fazer cartão nubank      9\n",
       "22             nubank codigo      9\n",
       "23       fazer cartao nubank      8\n",
       "24              nubank login      8"
      ]
     },
     "execution_count": 45,
     "metadata": {},
     "output_type": "execute_result"
    }
   ],
   "source": [
    "# Extraímos as consultas relacionadas e filtramos pela Keyword 2\n",
    "keyword_2_top_search = related_queries_dict['{}'.format(keyword_2)]['top']\n",
    "keyword_2_top_search"
   ]
  },
  {
   "cell_type": "code",
   "execution_count": 46,
   "metadata": {},
   "outputs": [
    {
     "data": {
      "image/png": "[encoded data removed]",
      "text/plain": [
       "<Figure size 864x864 with 1 Axes>"
      ]
     },
     "metadata": {},
     "output_type": "display_data"
    }
   ],
   "source": [
    "# Vamos separar as consultas relacionadas por percentual e listas as Top 10\n",
    "if keyword_2:\n",
    "    \n",
    "    # Extrai as Top 10 consultas relacionadas\n",
    "    if len(keyword_2_top_search.iloc[:,0]) >= 10:\n",
    "        keyword_2_top_search = keyword_2_top_search.head(10)\n",
    "        \n",
    "    # Gráfico\n",
    "    fig, ax = plt.subplots(figsize = (12,12), subplot_kw = dict(aspect = \"equal\"))\n",
    "\n",
    "    # Nomes das fatias do gráfico\n",
    "    pieLabels = keyword_2_top_search.iloc[:,0] \n",
    "\n",
    "    # Dados\n",
    "    data = keyword_2_top_search.iloc[:,1]\n",
    "\n",
    "    # Função para calcular o percentual\n",
    "    def func(pct, allvals):\n",
    "        absolute = int(pct/100.*np.sum(allvals))\n",
    "        return \"Percentual:{:.1f}%\\n Valor:{:d}\".format(pct, absolute)\n",
    "\n",
    "    # Prepara os dados para o gráfico\n",
    "    wedges, texts, autotexts = ax.pie(data, autopct = lambda pct: func(pct, data), textprops = dict(color = \"w\"))\n",
    "\n",
    "    # Legendas\n",
    "    ax.legend(wedges, pieLabels, title = \"Labels\", loc = \"center left\", bbox_to_anchor = (1, 0, 0.5, 1))\n",
    "\n",
    "    # Plot\n",
    "    plt.setp(autotexts, size = 8, weight = \"bold\")\n",
    "    \n",
    "    # Título\n",
    "    ax.set_title(\"\\n{} - Top 10 Consultas Relacionadas\".format(keyword_2.upper()))\n",
    "\n",
    "    plt.show()"
   ]
  },
  {
   "cell_type": "code",
   "execution_count": 47,
   "metadata": {},
   "outputs": [
    {
     "ename": "SyntaxError",
     "evalue": "invalid syntax (<ipython-input-47-7106144d6c92>, line 1)",
     "output_type": "error",
     "traceback": [
      "\u001b[1;36m  File \u001b[1;32m\"<ipython-input-47-7106144d6c92>\"\u001b[1;36m, line \u001b[1;32m1\u001b[0m\n\u001b[1;33m    Analisando a consulta relacionada que teve maior crescimento no período atribuido foi q query 'nubank abrir conta'\u001b[0m\n\u001b[1;37m               ^\u001b[0m\n\u001b[1;31mSyntaxError\u001b[0m\u001b[1;31m:\u001b[0m invalid syntax\n"
     ]
    }
   ],
   "source": [
    "Analisando a consulta relacionada que teve maior crescimento no período atribuido foi q query 'nubank abrir conta'\n",
    "podemos  "
   ]
  },
  {
   "cell_type": "code",
   "execution_count": null,
   "metadata": {},
   "outputs": [],
   "source": [
    "# Vamos verificar qual consulta relacionada teve maior crescimento no período analisado\n",
    "keyword_2_rising_search = related_queries_dict['{}'.format(keyword_2)]['rising']\n",
    "keyword_2_rising_search"
   ]
  },
  {
   "cell_type": "markdown",
   "metadata": {},
   "source": [
    "### Análise 4 - Buscas Relacionadas à Keyword 3"
   ]
  },
  {
   "cell_type": "code",
   "execution_count": null,
   "metadata": {},
   "outputs": [],
   "source": [
    "# Extraímos as consultas relacionadas e filtramos pela Keyword 3\n",
    "keyword_3_top_search = related_queries_dict['{}'.format(keyword_3)]['top']\n",
    "keyword_3_top_search"
   ]
  },
  {
   "cell_type": "code",
   "execution_count": null,
   "metadata": {},
   "outputs": [],
   "source": [
    "# Vamos separar as consultas relacionadas por percentual e listas as Top 10\n",
    "if keyword_3:\n",
    "    \n",
    "    # Extrai as Top 10 consultas relacionadas\n",
    "    if len(keyword_3_top_search.iloc[:,0]) >= 10:\n",
    "        keyword_3_top_search = keyword_3_top_search.head(10)\n",
    "        \n",
    "    # Gráfico\n",
    "    fig, ax = plt.subplots(figsize = (12,12), subplot_kw = dict(aspect = \"equal\"))\n",
    "\n",
    "    # Nomes das fatias do gráfico\n",
    "    pieLabels = keyword_3_top_search.iloc[:,0] \n",
    "\n",
    "    # Dados\n",
    "    data = keyword_3_top_search.iloc[:,1]\n",
    "\n",
    "    # Função para calcular o percentual\n",
    "    def func(pct, allvals):\n",
    "        absolute = int(pct/100.*np.sum(allvals))\n",
    "        return \"Percentual:{:.1f}%\\n Valor:{:d}\".format(pct, absolute)\n",
    "\n",
    "    # Prepara os dados para o gráfico\n",
    "    wedges, texts, autotexts = ax.pie(data, autopct = lambda pct: func(pct, data), textprops = dict(color = \"w\"))\n",
    "\n",
    "    # Legendas\n",
    "    ax.legend(wedges, pieLabels, title = \"Labels\", loc = \"center left\", bbox_to_anchor = (1, 0, 0.5, 1))\n",
    "\n",
    "    # Plot\n",
    "    plt.setp(autotexts, size = 8, weight = \"bold\")\n",
    "    \n",
    "    # Título\n",
    "    ax.set_title(\"\\n{} - Top 10 Consultas Relacionadas\".format(keyword_3.upper()))\n",
    "\n",
    "    plt.show()"
   ]
  },
  {
   "cell_type": "code",
   "execution_count": null,
   "metadata": {
    "scrolled": true
   },
   "outputs": [],
   "source": [
    "# Vamos verificar qual consulta relacionada teve maior crescimento no período analisado\n",
    "keyword_3_rising_search = related_queries_dict['{}'.format(keyword_3)]['rising']\n",
    "keyword_3_rising_search                         "
   ]
  },
  {
   "cell_type": "markdown",
   "metadata": {},
   "source": [
    "### Análise 5 - Buscas Relacionadas à Keyword 4"
   ]
  },
  {
   "cell_type": "code",
   "execution_count": null,
   "metadata": {},
   "outputs": [],
   "source": [
    "# Extraímos as consultas relacionadas e filtramos pela Keyword 3\n",
    "keyword_4_top_search = related_queries_dict['{}'.format(keyword_4)]['top']\n",
    "keyword_4_top_search                                                "
   ]
  },
  {
   "cell_type": "code",
   "execution_count": null,
   "metadata": {},
   "outputs": [],
   "source": [
    "# Vamos separar as consultas relacionadas por percentual e listas as Top 10\n",
    "if keyword_4:\n",
    "    \n",
    "    # Extrai as Top 10 consultas relacionadas\n",
    "    if len(keyword_4_top_search.iloc[:,0]) >= 10:\n",
    "        keyword_4_top_search = keyword_4_top_search.head(10)\n",
    "        \n",
    "    # Gráfico\n",
    "    fig, ax = plt.subplots(figsize = (12,12), subplot_kw = dict(aspect = \"equal\"))\n",
    "\n",
    "    # Nomes das fatias do gráfico\n",
    "    pieLabels = keyword_4_top_search.iloc[:,0] \n",
    "\n",
    "    # Dados\n",
    "    data = keyword_4_top_search.iloc[:,1]\n",
    "\n",
    "    # Função para calcular o percentual\n",
    "    def func(pct, allvals):\n",
    "        absolute = int(pct/100.*np.sum(allvals))\n",
    "        return \"Percentual:{:.1f}%\\n Valor:{:d}\".format(pct, absolute)\n",
    "\n",
    "    # Prepara os dados para o gráfico\n",
    "    wedges, texts, autotexts = ax.pie(data, autopct = lambda pct: func(pct, data), textprops = dict(color = \"w\"))\n",
    "\n",
    "    # Legendas\n",
    "    ax.legend(wedges, pieLabels, title = \"Labels\", loc = \"center left\", bbox_to_anchor = (1, 0, 0.5, 1))\n",
    "\n",
    "    # Plot\n",
    "    plt.setp(autotexts, size = 8, weight = \"bold\")\n",
    "    \n",
    "    # Título\n",
    "    ax.set_title(\"\\n{} - Top 10 Consultas Relacionadas\".format(keyword_4.upper()))\n",
    "\n",
    "    plt.show()"
   ]
  },
  {
   "cell_type": "code",
   "execution_count": null,
   "metadata": {
    "scrolled": true
   },
   "outputs": [],
   "source": [
    "# Vamos verificar qual consulta relacionada teve maior crescimento no período analisado\n",
    "keyword_4_rising_search = related_queries_dict['{}'.format(keyword_4)]['rising']\n",
    "keyword_4_rising_search"
   ]
  },
  {
   "cell_type": "markdown",
   "metadata": {},
   "source": [
    "### Análise 5 - Média Mensal de Buscas com as Palavras-Chave"
   ]
  },
  {
   "cell_type": "code",
   "execution_count": null,
   "metadata": {},
   "outputs": [],
   "source": [
    "# Termos de busca\n",
    "lista_palavras = [keyword_1, keyword_2, keyword_3, keyword_4]"
   ]
  },
  {
   "cell_type": "code",
   "execution_count": null,
   "metadata": {},
   "outputs": [],
   "source": [
    "# Lista\n",
    "lista_palavras"
   ]
  },
  {
   "cell_type": "code",
   "execution_count": null,
   "metadata": {},
   "outputs": [],
   "source": [
    "# Prepara as datas (observe o range, que agora é maior)\n",
    "set_begin_date = datetime.datetime(2015, 1, 1)\n",
    "set_end_date = datetime.datetime(2020, 3, 14)\n",
    "print(set_begin_date.date(), set_end_date.date())"
   ]
  },
  {
   "cell_type": "code",
   "execution_count": null,
   "metadata": {},
   "outputs": [],
   "source": [
    "# Timeframe\n",
    "user_timeframe = set_begin_date.strftime('%Y-%m-%d') + ' ' + set_end_date.strftime('%Y-%m-%d')"
   ]
  },
  {
   "cell_type": "code",
   "execution_count": null,
   "metadata": {},
   "outputs": [],
   "source": [
    "user_timeframe"
   ]
  },
  {
   "cell_type": "code",
   "execution_count": null,
   "metadata": {},
   "outputs": [],
   "source": [
    "# Busca no Google Trends\n",
    "pytrend.build_payload(kw_list = lista_palavras, \n",
    "                      cat = 0, \n",
    "                      timeframe = user_timeframe, \n",
    "                      geo = 'BR', \n",
    "                      gprop = '')"
   ]
  },
  {
   "cell_type": "code",
   "execution_count": null,
   "metadata": {},
   "outputs": [],
   "source": [
    "# Salvamos a busca em disco\n",
    "pytrend.interest_over_time().to_csv(\"dados/interesse_anual.csv\", index = True)"
   ]
  },
  {
   "cell_type": "code",
   "execution_count": null,
   "metadata": {},
   "outputs": [],
   "source": [
    "# Carrega o arquivo do disco\n",
    "dados_brutos = pd.read_csv('dados/interesse_anual.csv')\n",
    "dados_brutos.head(10)"
   ]
  },
  {
   "cell_type": "code",
   "execution_count": null,
   "metadata": {},
   "outputs": [],
   "source": [
    "# Removemos a última coluna\n",
    "dados_brutos = dados_brutos.drop(dados_brutos.columns[[-1]], axis = 1) "
   ]
  },
  {
   "cell_type": "code",
   "execution_count": null,
   "metadata": {},
   "outputs": [],
   "source": [
    "# Visualiza os dados\n",
    "dados_brutos.head()"
   ]
  },
  {
   "cell_type": "code",
   "execution_count": null,
   "metadata": {},
   "outputs": [],
   "source": [
    "# Criamos uma coluna de data\n",
    "dados_brutos[\"date\"] = pd.to_datetime(dados_brutos[\"date\"])"
   ]
  },
  {
   "cell_type": "code",
   "execution_count": null,
   "metadata": {},
   "outputs": [],
   "source": [
    "# Calculamos a média mensal de buscas\n",
    "media_mensal = []\n",
    "for i in range(0, 12):\n",
    "    media_mensal.append(dados_brutos.loc[dados_brutos[\"date\"].dt.month == i+1,].mean())"
   ]
  },
  {
   "cell_type": "code",
   "execution_count": null,
   "metadata": {},
   "outputs": [],
   "source": [
    "# Ajustamos a média mensal\n",
    "media_mensal = pd.DataFrame(media_mensal, \n",
    "                            index = ['1','2','3','4','5','6','7','8','9','10','11','12'], \n",
    "                            columns = ['{}'.format(keyword_1), '{}'.format(keyword_2), '{}'.format(keyword_3), '{}'.format(keyword_4)])"
   ]
  },
  {
   "cell_type": "code",
   "execution_count": null,
   "metadata": {
    "scrolled": true
   },
   "outputs": [],
   "source": [
    "# Visualiza os dados\n",
    "media_mensal"
   ]
  },
  {
   "cell_type": "code",
   "execution_count": null,
   "metadata": {},
   "outputs": [],
   "source": [
    "# Plot\n",
    "plt.figure(figsize = (12,10))\n",
    "sns.heatmap(media_mensal, cmap = 'RdYlGn_r', annot = True, linewidth = 0.5)"
   ]
  },
  {
   "cell_type": "markdown",
   "metadata": {},
   "source": [
    "Há muito ainda a explorar com o PyTrends. Consulte a documentação e use o Google Trends para prever as tendências do mercado."
   ]
  },
  {
   "cell_type": "markdown",
   "metadata": {},
   "source": [
    "# Fim"
   ]
  }
 ],
 "metadata": {
  "kernelspec": {
   "display_name": "Python 3",
   "language": "python",
   "name": "python3"
  },
  "language_info": {
   "codemirror_mode": {
    "name": "ipython",
    "version": 3
   },
   "file_extension": ".py",
   "mimetype": "text/x-python",
   "name": "python",
   "nbconvert_exporter": "python",
   "pygments_lexer": "ipython3",
   "version": "3.7.9"
  }
 },
 "nbformat": 4,
 "nbformat_minor": 2
}
